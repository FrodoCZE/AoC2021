{
 "cells": [
  {
   "cell_type": "code",
   "execution_count": 9,
   "metadata": {},
   "outputs": [],
   "source": [
    "mylist = []\n",
    "\n",
    "with open(\"day1_part2.txt\", \"r\") as f:\n",
    "    mylist =[x.strip(\"\\n,'\") for x in f.readlines()]\n",
    "\n"
   ]
  },
  {
   "cell_type": "code",
   "execution_count": 37,
   "metadata": {},
   "outputs": [
    {
     "name": "stdout",
     "output_type": "stream",
     "text": [
      "count:  1395\n"
     ]
    }
   ],
   "source": [
    "count = 0\n",
    "sum = int(mylist[0]) + int(mylist[1]) + int(mylist[2])\n",
    "\n",
    "for x in range(3,len(mylist)):\n",
    "    if((int(mylist[x]) + int(mylist[x-1]) + int(mylist[x-2])) > sum):\n",
    "        count += 1\n",
    "    sum = (int(mylist[x]) + int(mylist[x-1]) + int(mylist[x-2]))\n",
    "\n",
    "print(\"count: \",count)"
   ]
  },
  {
   "cell_type": "code",
   "execution_count": 23,
   "metadata": {},
   "outputs": [
    {
     "name": "stdout",
     "output_type": "stream",
     "text": [
      "yes\n",
      "sum:  500\n",
      "sum:  479\n",
      "count!\n",
      "sum:  496\n",
      "count!\n",
      "sum:  500\n",
      "count!\n",
      "sum:  511\n",
      "sum:  509\n",
      "sum:  505\n",
      "sum:  501\n",
      "sum:  497\n",
      "sum:  493\n",
      "sum:  481\n",
      "sum:  472\n",
      "sum:  467\n",
      "sum:  459\n",
      "sum:  457\n",
      "count!\n",
      "sum:  466\n",
      "count:  4\n"
     ]
    }
   ],
   "source": [
    "count = 0\n",
    "test = [\n",
    "159,\n",
    "170,\n",
    "171,\n",
    "170,\n",
    "168,\n",
    "167,\n",
    "166,\n",
    "164,\n",
    "163,\n",
    "154,\n",
    "155,\n",
    "158,\n",
    "146,\n",
    "153,\n",
    "167]\n",
    "\n",
    "sum = int(test[0]) + int(test[1]) + int(test[2])\n",
    "print(\"sum: \",sum)\n",
    "for x in range(len(test)):\n",
    "    if((int(test[x]) + int(test[x-1]) + int(test[x-2])) > sum):\n",
    "        count += 1\n",
    "        print(\"count!\")\n",
    "    sum = int(test[x]) + int(test[x-1]) + int(test[x-2])\n",
    "    print(\"sum: \",sum)\n",
    "\n",
    "print(\"count: \",count)"
   ]
  }
 ],
 "metadata": {
  "interpreter": {
   "hash": "ba03f12579db48868722e05c0c58c0264b58732eb3f583d6fbd7f2d20cc94ea5"
  },
  "kernelspec": {
   "display_name": "Python 3.10.0 64-bit",
   "language": "python",
   "name": "python3"
  },
  "language_info": {
   "codemirror_mode": {
    "name": "ipython",
    "version": 3
   },
   "file_extension": ".py",
   "mimetype": "text/x-python",
   "name": "python",
   "nbconvert_exporter": "python",
   "pygments_lexer": "ipython3",
   "version": "3.10.0"
  },
  "orig_nbformat": 4
 },
 "nbformat": 4,
 "nbformat_minor": 2
}
