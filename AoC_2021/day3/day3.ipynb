{
 "cells": [
  {
   "cell_type": "code",
   "execution_count": 40,
   "metadata": {},
   "outputs": [],
   "source": [
    "f = open(\"input.txt\", \"r\")\n",
    "mylist = []\n",
    "for x in f.readlines():\n",
    "    mylist.append(x.strip(\"\\n\"))\n"
   ]
  },
  {
   "cell_type": "code",
   "execution_count": 6,
   "metadata": {},
   "outputs": [
    {
     "name": "stdout",
     "output_type": "stream",
     "text": [
      "[489, 502, 510, 480, 530, 517, 497, 513, 476, 509, 496, 508]\n",
      "[511, 498, 490, 520, 470, 483, 503, 487, 524, 491, 504, 492]\n"
     ]
    }
   ],
   "source": [
    "#part 1\n",
    "\n",
    "bit1count = [0,0,0,0,0,0,0,0,0,0,0,0]\n",
    "bit0count = [0,0,0,0,0,0,0,0,0,0,0,0]\n",
    "\n",
    "for x in range(0,len(mylist)):\n",
    "    mylist[x]\n",
    "    for y in range(0,len(mylist[x])):\n",
    "        if(mylist[x][y] == '0'):\n",
    "            bit0count[y] += 1;\n",
    "        else:\n",
    "            bit1count[y] += 1;\n",
    "\n",
    "print(bit0count)\n",
    "print(bit1count)"
   ]
  },
  {
   "cell_type": "code",
   "execution_count": 40,
   "metadata": {},
   "outputs": [
    {
     "name": "stdout",
     "output_type": "stream",
     "text": [
      "[1, 0, 0, 1, 0, 0, 1, 0, 1, 0, 1, 0] [0, 1, 1, 0, 1, 1, 0, 1, 0, 1, 0, 1]\n",
      "4103154\n"
     ]
    }
   ],
   "source": [
    "result_gamma = [0,0,0,0,0,0,0,0,0,0,0,0]\n",
    "result_epsilon = [0,0,0,0,0,0,0,0,0,0,0,0]\n",
    "\n",
    "for x in range(0,len(bit0count)):\n",
    "    if(bit1count[x]>bit0count[x]):\n",
    "        result_gamma[x] = 1\n",
    "        result_epsilon[x] = 0\n",
    "\n",
    "    else:\n",
    "        result_gamma[x] = 0\n",
    "        result_epsilon[x] = 1\n",
    "\n",
    "print(result_gamma,result_epsilon)\n",
    "\n",
    "gamma = int(\"\".join(str(x) for x in result_gamma),2)\n",
    "epsilon = int (\"\".join(str(y) for y in result_epsilon),2)\n",
    "\n",
    "print(gamma*epsilon)\n",
    "\n",
    "\n",
    "\n",
    "\n"
   ]
  },
  {
   "cell_type": "code",
   "execution_count": 46,
   "metadata": {},
   "outputs": [
    {
     "data": {
      "text/plain": [
       "4245351"
      ]
     },
     "execution_count": 46,
     "metadata": {},
     "output_type": "execute_result"
    }
   ],
   "source": [
    "#part 2\n",
    "\n",
    "\n",
    "test =['00100',\n",
    "'11110',\n",
    "'10110',\n",
    "'10111',\n",
    "'10101',\n",
    "'01111',\n",
    "'00111',\n",
    "'11100',\n",
    "'10000',\n",
    "'11001',\n",
    "'00010',\n",
    "'01010']\n",
    "\n",
    "\n",
    "def oxygen(bit_pos,list):\n",
    "    # print(\"depth:\",bit_pos)\n",
    "    # print(list)\n",
    "    # print(\"bit_pos\",bit_pos)\n",
    "    list0 = []\n",
    "    list1 = []\n",
    "\n",
    "    if(len(list) == 1):\n",
    "        return list\n",
    "\n",
    "    for x in range(0,len(list)):\n",
    "        if(list[x][bit_pos] == '1'):\n",
    "            list1.append(list[x])\n",
    "        else:\n",
    "            list0.append(list[x])\n",
    "\n",
    "    if(len(list1) >= len(list0)):\n",
    "        # print(\"list1:\",list1)\n",
    "        return oxygen(bit_pos+1,list1)\n",
    "    else:\n",
    "        # print(\"list0:\",list0)\n",
    "        return oxygen(bit_pos+1,list0)\n",
    "\n",
    "def Co2(bit_pos,list):\n",
    "\n",
    "    list0 = []\n",
    "    list1 = []\n",
    "\n",
    "    if(len(list) == 1):\n",
    "        return list\n",
    "\n",
    "\n",
    "    for x in range(0,len(list)):\n",
    "        if(list[x][bit_pos] == '1'):\n",
    "            list1.append(list[x])\n",
    "        else:\n",
    "            list0.append(list[x])\n",
    "\n",
    "    if(len(list1) >= len(list0)):\n",
    "        return Co2(bit_pos+1, list0)\n",
    "    else:\n",
    "        return Co2(bit_pos+1,list1)\n",
    "\n",
    "# print(oxygen(0,mylist))\n",
    "# print( Co2(0,mylist))\n",
    "\n",
    "oxygen_val = int(\"\".join(str(x) for x in Co2(0,mylist)),2)\n",
    "c02_val = int(\"\".join(str(y) for y in oxygen(0,mylist)),2)\n",
    "\n",
    "# oxygen = 3399\n",
    "# c02 = 1249\n",
    "\n",
    "oxygen_val*c02_val\n",
    "\n",
    "\n",
    "\n",
    "\n",
    "\n"
   ]
  },
  {
   "cell_type": "code",
   "execution_count": 23,
   "metadata": {},
   "outputs": [
    {
     "name": "stdout",
     "output_type": "stream",
     "text": [
      "1\n",
      "False\n"
     ]
    }
   ],
   "source": [
    "test = '101111001001'\n",
    "\n",
    "print(test[2])\n",
    "\n",
    "if(test[1] == '1'):\n",
    "    print(\"true\")\n",
    "else:\n",
    "    print(\"False\")"
   ]
  }
 ],
 "metadata": {
  "interpreter": {
   "hash": "ba03f12579db48868722e05c0c58c0264b58732eb3f583d6fbd7f2d20cc94ea5"
  },
  "kernelspec": {
   "display_name": "Python 3.10.0 64-bit",
   "language": "python",
   "name": "python3"
  },
  "language_info": {
   "codemirror_mode": {
    "name": "ipython",
    "version": 3
   },
   "file_extension": ".py",
   "mimetype": "text/x-python",
   "name": "python",
   "nbconvert_exporter": "python",
   "pygments_lexer": "ipython3",
   "version": "3.10.0"
  },
  "orig_nbformat": 4
 },
 "nbformat": 4,
 "nbformat_minor": 2
}
